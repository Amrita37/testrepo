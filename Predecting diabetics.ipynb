{
 "cells": [
  {
   "cell_type": "code",
   "execution_count": 3,
   "metadata": {},
   "outputs": [
    {
     "name": "stdout",
     "output_type": "stream",
     "text": [
      "b'{\"Results\":{\"output1\":{\"type\":\"table\",\"value\":{\"ColumnNames\":[\"Pregnancies\",\"Glucose\",\"BloodPressure\",\"SkinThickness\",\"Insulin\",\"BMI\",\"DiabetesPedigreeFunction\",\"Age\",\"Outcome\",\"Scored Labels\",\"Scored Probabilities\"],\"ColumnTypes\":[\"Int32\",\"Int32\",\"Int32\",\"Int32\",\"Int32\",\"Double\",\"Double\",\"Int32\",\"Int32\",\"Int32\",\"Double\"],\"Values\":[[\"10\",\"115\",\"0\",\"0\",\"0\",\"35.3\",\"0.134\",\"29\",\"0\",\"0\",\"0.435230612754822\"],[\"0\",\"0\",\"0\",\"0\",\"0\",\"0\",\"0\",\"0\",\"0\",\"0\",\"0.00424645561724901\"]]}}}}'\n"
     ]
    }
   ],
   "source": [
    "import urllib.request\n",
    "# If you are using Python 3+, import urllib instead of urllib2\n",
    "\n",
    "import json \n",
    "\n",
    "\n",
    "data =  {\n",
    "\n",
    "        \"Inputs\": {\n",
    "\n",
    "                \"input1\":\n",
    "                {\n",
    "                    \"ColumnNames\": [\"Pregnancies\", \"Glucose\", \"BloodPressure\", \"SkinThickness\", \"Insulin\", \"BMI\", \"DiabetesPedigreeFunction\", \"Age\", \"Outcome\"],\n",
    "                    \"Values\": [ [ \"10\", \"115\", \"0\", \"0\", \"0\", \"35.3\", \"0.134\", \"29\", \"0\" ], [ \"0\", \"0\", \"0\", \"0\", \"0\", \"0\", \"0\", \"0\", \"0\" ], ]\n",
    "                },        },\n",
    "            \"GlobalParameters\": {\n",
    "}\n",
    "    }\n",
    "\n",
    "body = str.encode(json.dumps(data))\n",
    "\n",
    "url = 'https://ussouthcentral.services.azureml.net/workspaces/92c1a4b3eef24708858da015e1e87bfa/services/fffe15a8444a4ae9a0cfb36454b26664/execute?api-version=2.0&details=true'\n",
    "api_key = 'mN8sJMqx07lCpML/alTYJD8O8RVUcHJ1zyJ/mfzP1UyUQQ2ITQ3bhbChHb2NneNTItrz01ad8cF+6MGiG3NDJQ==' # Replace this with the API key for the web service\n",
    "headers = {'Content-Type':'application/json', 'Authorization':('Bearer '+ api_key)}\n",
    "\n",
    "req = urllib.request.Request(url, body, headers) \n",
    "response = urllib.request.urlopen(req)\n",
    "result = response.read()\n",
    "print(result) "
   ]
  }
 ],
 "metadata": {
  "kernelspec": {
   "display_name": "Python 3",
   "language": "python",
   "name": "python3"
  },
  "language_info": {
   "codemirror_mode": {
    "name": "ipython",
    "version": 3
   },
   "file_extension": ".py",
   "mimetype": "text/x-python",
   "name": "python",
   "nbconvert_exporter": "python",
   "pygments_lexer": "ipython3",
   "version": "3.7.6"
  }
 },
 "nbformat": 4,
 "nbformat_minor": 4
}
